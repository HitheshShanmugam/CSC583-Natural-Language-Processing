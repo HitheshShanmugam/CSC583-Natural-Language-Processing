{
 "cells": [
  {
   "cell_type": "markdown",
   "metadata": {},
   "source": [
    "# Hithesh Shanmgugam\n",
    "# CSC 583\n",
    "# HW 2"
   ]
  },
  {
   "cell_type": "markdown",
   "metadata": {},
   "source": [
    "# Import Necessary packages"
   ]
  },
  {
   "cell_type": "code",
   "execution_count": 1,
   "metadata": {},
   "outputs": [
    {
     "name": "stderr",
     "output_type": "stream",
     "text": [
      "[nltk_data] Downloading package punkt to\n",
      "[nltk_data]     C:\\Users\\sures\\AppData\\Roaming\\nltk_data...\n",
      "[nltk_data]   Package punkt is already up-to-date!\n"
     ]
    },
    {
     "data": {
      "text/plain": [
       "True"
      ]
     },
     "execution_count": 1,
     "metadata": {},
     "output_type": "execute_result"
    }
   ],
   "source": [
    "import nltk\n",
    "from nltk.tokenize import word_tokenize, sent_tokenize\n",
    "import numpy as np\n",
    "import re\n",
    "import matplotlib.pyplot as plt\n",
    "nltk.download('punkt')"
   ]
  },
  {
   "cell_type": "markdown",
   "metadata": {},
   "source": [
    "# Sample-2023 Exercise"
   ]
  },
  {
   "cell_type": "code",
   "execution_count": 2,
   "metadata": {},
   "outputs": [
    {
     "name": "stdout",
     "output_type": "stream",
     "text": [
      "Total number of paragraphs: 8\n",
      "Total number of sentences: 31\n",
      "Total number of words/tokens: 561\n",
      "Total number of unique words/tokens: 277\n"
     ]
    }
   ],
   "source": [
    "# read in input file\n",
    "with open('C:/Users/sures/OneDrive - DePaul University/Desktop/sample-2023.txt', 'r', encoding='utf8') as f:\n",
    "    text = f.read().lower()\n",
    "\n",
    "# tokenize words and apply rules for punctuation and contractions\n",
    "tokens = word_tokenize(text)\n",
    "new_tokens = []\n",
    "for i in range(len(tokens)):\n",
    "    token = tokens[i]\n",
    "    if token in ['n\\'t', 'shan’t']:\n",
    "        new_tokens.pop()\n",
    "        new_tokens.append(tokens[i-1])\n",
    "        new_tokens.append('not')\n",
    "    elif token == '\\'ll':\n",
    "        new_tokens.pop()\n",
    "        new_tokens.append(tokens[i-1])\n",
    "        new_tokens.append('will')\n",
    "    elif token == '\\'ve':\n",
    "        new_tokens.pop()\n",
    "        new_tokens.append(tokens[i-1])\n",
    "        new_tokens.append('have')\n",
    "    elif token == '\\'d':\n",
    "        new_tokens.pop()\n",
    "        new_tokens.append(tokens[i-1])\n",
    "        new_tokens.append('would')\n",
    "    elif token == '\\'re':\n",
    "        new_tokens.pop()\n",
    "        new_tokens.append(tokens[i-1])\n",
    "        new_tokens.append('are')\n",
    "    elif token == '\\'s':\n",
    "        if i > 0 and tokens[i-1] == 'let':\n",
    "            new_tokens.pop()\n",
    "            new_tokens.append('let')\n",
    "            new_tokens.append('us')\n",
    "        elif i > 0 and tokens[i-1] in ['he', 'she', 'it', 'that', 'here', 'there', 'what', 'when', 'where', 'which', 'who', 'how']:\n",
    "            new_tokens.pop()\n",
    "            new_tokens.append(tokens[i-1])\n",
    "            new_tokens.append('is')\n",
    "        else:\n",
    "            new_tokens.pop()\n",
    "            new_tokens.append(token[:-2])\n",
    "            new_tokens.append('\\'s')\n",
    "    elif token == 'i\\'m':\n",
    "        new_tokens.pop()\n",
    "        new_tokens.append('i')\n",
    "        new_tokens.append('am')\n",
    "    else:\n",
    "        if i > 0 and (token[0] in ['.', ',', '!', '?', ':', ';'] or token[:2] in ['--', '``', '\\'\\'']):\n",
    "            new_tokens += list(token[:-1])\n",
    "            new_tokens.append(token[-1])\n",
    "        elif i < len(tokens)-1 and (token[-1] in ['.', ',', '!', '?', ':', ';'] or token[-2:] in ['--', '``', '\\'\\'']):\n",
    "            new_tokens.append(token[0])\n",
    "            new_tokens += list(token[1:])\n",
    "        else:\n",
    "            new_tokens.append(token)\n",
    "\n",
    "\n",
    "# Split the text into lines\n",
    "lines = text.splitlines()\n",
    "# Count the number of non-empty lines to get the number of paragraphs\n",
    "num_paragraphs = sum(1 for line in lines if line.strip())\n",
    "\n",
    "# count sentences\n",
    "sentences = sent_tokenize(text)\n",
    "num_sentences = len(sentences)\n",
    "\n",
    "# initialize word count and unique word count\n",
    "word_count = 0\n",
    "unique_words = set()\n",
    "for sentence in sentences:\n",
    "    # tokenize the sentence into words\n",
    "    words = nltk.word_tokenize(sentence)\n",
    "    # update the word count\n",
    "    word_count += len(words)\n",
    "    \n",
    "# count unique words\n",
    "unique_words, counts = np.unique(new_tokens, return_counts=True)\n",
    "num_unique_words = len(unique_words)\n",
    "\n",
    "# create frequency count dictionary\n",
    "freq_counts = dict(zip(unique_words, counts))\n",
    "\n",
    "\n",
    "# sort the word types by frequency counts and lexicographical order\n",
    "sorted_freq_counts = sorted(freq_counts.items(), key=lambda x: (-x[1], x[0]))\n",
    "\n",
    "# write the output to file\n",
    "with open('C:/Users/sures/OneDrive - DePaul University/Desktop/output1.txt', 'w') as f:\n",
    "    # write counts/statistics at the top of the file\n",
    "    f.write(\"Hithesh Shanmugam\\n\")\n",
    "    f.write(\"CSC 583\\n\")\n",
    "    f.write(\"HW2\\n\")\n",
    "    f.write(\"******************\")\n",
    "    f.write(\"\\n\")\n",
    "    f.write(\"# of paragraphs = {}\\n\".format(num_paragraphs))\n",
    "    f.write(\"# of sentences = {}\\n\".format(num_sentences))\n",
    "    f.write(\"# of tokens = {}\\n\".format(word_count))\n",
    "    f.write(\"# of unique tokens = {}\\n\".format(num_unique_words))\n",
    "    f.write(\"\\n\")\n",
    "    f.write(\"******************\")\n",
    "    f.write(\"\\n\")\n",
    "    # write top 25 frequency counts to file\n",
    "    f.write(\"Rank  Word            Frequency\\n\")\n",
    "    for i, (word, count) in enumerate(sorted_freq_counts[:25]):\n",
    "        f.write(\"{:4d}  {:15s} {:5d}\\n\".format(i+1, word, count))\n",
    "\n",
    "# print results\n",
    "print(\"Total number of paragraphs:\", num_paragraphs)\n",
    "print(\"Total number of sentences:\", num_sentences)\n",
    "print(\"Total number of words/tokens:\", word_count)\n",
    "print(\"Total number of unique words/tokens:\", num_unique_words)"
   ]
  },
  {
   "cell_type": "markdown",
   "metadata": {},
   "source": [
    "# Plot using Zipf's law"
   ]
  },
  {
   "cell_type": "code",
   "execution_count": 3,
   "metadata": {},
   "outputs": [
    {
     "data": {
      "image/png": "[encoded data removed]",
      "text/plain": [
       "<Figure size 432x288 with 1 Axes>"
      ]
     },
     "metadata": {
      "needs_background": "light"
     },
     "output_type": "display_data"
    }
   ],
   "source": [
    "# get the frequencies and sort them in descending order\n",
    "freq_counts = dict(zip(unique_words, counts))\n",
    "sorted_freq_counts = sorted(freq_counts.items(), key=lambda x: (-x[1], x[0]))\n",
    "\n",
    "# create a list of the word frequencies in descending order\n",
    "freq_list = sorted(freq_counts.items(), key=lambda x: (-x[1], x[0]))\n",
    "\n",
    "# extract the frequencies and their corresponding ranks\n",
    "ranks = range(1, len(freq_list)+1)\n",
    "frequencies = [np.log(freq) for word, freq in freq_list]\n",
    "\n",
    "# plot the log of the frequencies against the ranks\n",
    "plt.plot(ranks, frequencies)\n",
    "\n",
    "# add axis labels and a title\n",
    "plt.xlabel('Rank')\n",
    "plt.ylabel('Log Frequency')\n",
    "plt.title('Zipf\\'s Law')\n",
    "\n",
    "# display the plot\n",
    "plt.show()"
   ]
  },
  {
   "cell_type": "markdown",
   "metadata": {},
   "source": [
    "# War and peace exercise"
   ]
  },
  {
   "cell_type": "code",
   "execution_count": 4,
   "metadata": {},
   "outputs": [
    {
     "name": "stdout",
     "output_type": "stream",
     "text": [
      "Total number of paragraphs: 12169\n",
      "Total number of sentences: 31911\n",
      "Total number of words/tokens: 672192\n",
      "Total number of unique words/tokens: 18672\n"
     ]
    }
   ],
   "source": [
    "# read in input file\n",
    "with open('C:/Users/sures/OneDrive - DePaul University/Desktop/war-and-peace.txt', 'r', encoding='ISO-8859-1') as f:\n",
    "    text = f.read().lower()\n",
    "\n",
    "# tokenize words and apply rules for punctuation and contractions\n",
    "tokens = word_tokenize(text)\n",
    "new_tokens = []\n",
    "for i in range(len(tokens)):\n",
    "    token = tokens[i]\n",
    "    if token in ['n\\'t', 'shan’t']:\n",
    "        new_tokens.pop()\n",
    "        new_tokens.append(tokens[i-1])\n",
    "        new_tokens.append('not')\n",
    "    elif token == '\\'ll':\n",
    "        new_tokens.pop()\n",
    "        new_tokens.append(tokens[i-1])\n",
    "        new_tokens.append('will')\n",
    "    elif token == '\\'ve':\n",
    "        new_tokens.pop()\n",
    "        new_tokens.append(tokens[i-1])\n",
    "        new_tokens.append('have')\n",
    "    elif token == '\\'d':\n",
    "        new_tokens.pop()\n",
    "        new_tokens.append(tokens[i-1])\n",
    "        new_tokens.append('would')\n",
    "    elif token == '\\'re':\n",
    "        new_tokens.pop()\n",
    "        new_tokens.append(tokens[i-1])\n",
    "        new_tokens.append('are')\n",
    "    elif token == '\\'s':\n",
    "        if i > 0 and tokens[i-1] == 'let':\n",
    "            new_tokens.pop()\n",
    "            new_tokens.append('let')\n",
    "            new_tokens.append('us')\n",
    "        elif i > 0 and tokens[i-1] in ['he', 'she', 'it', 'that', 'here', 'there', 'what', 'when', 'where', 'which', 'who', 'how']:\n",
    "            new_tokens.pop()\n",
    "            new_tokens.append(tokens[i-1])\n",
    "            new_tokens.append('is')\n",
    "        else:\n",
    "            new_tokens.pop()\n",
    "            new_tokens.append(token[:-2])\n",
    "            new_tokens.append('\\'s')\n",
    "    elif token == 'i\\'m':\n",
    "        new_tokens.pop()\n",
    "        new_tokens.append('i')\n",
    "        new_tokens.append('am')\n",
    "    else:\n",
    "        if i > 0 and (token[0] in ['.', ',', '!', '?', ':', ';'] or token[:2] in ['--', '``', '\\'\\'']):\n",
    "            new_tokens += list(token[:-1])\n",
    "            new_tokens.append(token[-1])\n",
    "        elif i < len(tokens)-1 and (token[-1] in ['.', ',', '!', '?', ':', ';'] or token[-2:] in ['--', '``', '\\'\\'']):\n",
    "            new_tokens.append(token[0])\n",
    "            new_tokens += list(token[1:])\n",
    "        else:\n",
    "            new_tokens.append(token)\n",
    "\n",
    "# count paragraphs\n",
    "paragraphs = re.findall(r'\\n{2,}', text)\n",
    "num_paragraphs = len(paragraphs) + 1\n",
    "\n",
    "# count sentences\n",
    "sentences = sent_tokenize(text)\n",
    "num_sentences = len(sentences)\n",
    "\n",
    "# initialize word count and unique word count\n",
    "word_count = 0\n",
    "unique_words = set()\n",
    "for sentence in sentences:\n",
    "    # tokenize the sentence into words\n",
    "    words = nltk.word_tokenize(sentence)\n",
    "    # update the word count\n",
    "    word_count += len(words)\n",
    "            \n",
    "# count unique words\n",
    "unique_words, counts = np.unique(new_tokens, return_counts=True)\n",
    "num_unique_words = len(unique_words)\n",
    "\n",
    "# create frequency count dictionary\n",
    "freq_counts = dict(zip(unique_words, counts))\n",
    "# Split the text into lines\n",
    "lines = text.splitlines()\n",
    "\n",
    "# sort the word types by frequency counts and lexicographical order\n",
    "sorted_freq_counts = sorted(freq_counts.items(), key=lambda x: (-x[1], x[0]))\n",
    "\n",
    "# write the output to file\n",
    "with open('C:/Users/sures/OneDrive - DePaul University/Desktop/output2.txt', 'w') as f:\n",
    "    # write counts/statistics at the top of the file\n",
    "    f.write(\"Hithesh Shanmugam\\n\")\n",
    "    f.write(\"CSC 583\\n\")\n",
    "    f.write(\"HW2\\n\")\n",
    "    f.write(\"******************\")\n",
    "    f.write(\"\\n\")\n",
    "    f.write(\"# of paragraphs = {}\\n\".format(num_paragraphs))\n",
    "    f.write(\"# of sentences = {}\\n\".format(num_sentences))\n",
    "    f.write(\"# of tokens = {}\\n\".format(word_count))\n",
    "    f.write(\"# of unique tokens = {}\\n\".format(num_unique_words))\n",
    "    f.write(\"\\n\")\n",
    "    f.write(\"******************\")\n",
    "    f.write(\"\\n\")\n",
    "    # write top 200 frequency counts to file\n",
    "    f.write(\"Rank  Word            Frequency\\n\")\n",
    "    for i, (word, count) in enumerate(sorted_freq_counts[:200]):\n",
    "        f.write(\"{:4d}  {:15s} {:5d}\\n\".format(i+1, word, count))\n",
    "        \n",
    "# print results\n",
    "print(\"Total number of paragraphs:\", num_paragraphs)\n",
    "print(\"Total number of sentences:\", num_sentences)\n",
    "print(\"Total number of words/tokens:\", word_count)\n",
    "print(\"Total number of unique words/tokens:\", num_unique_words)"
   ]
  },
  {
   "cell_type": "markdown",
   "metadata": {},
   "source": [
    "# Plot using Zipf's law"
   ]
  },
  {
   "cell_type": "code",
   "execution_count": 5,
   "metadata": {},
   "outputs": [
    {
     "data": {
      "image/png": "[encoded data removed]",
      "text/plain": [
       "<Figure size 432x288 with 1 Axes>"
      ]
     },
     "metadata": {
      "needs_background": "light"
     },
     "output_type": "display_data"
    }
   ],
   "source": [
    "# get the frequencies and sort them in descending order\n",
    "freq_counts = dict(zip(unique_words, counts))\n",
    "sorted_freq_counts = sorted(freq_counts.items(), key=lambda x: (-x[1], x[0]))\n",
    "\n",
    "# create a list of the word frequencies in descending order\n",
    "freq_list = sorted(freq_counts.items(), key=lambda x: (-x[1], x[0]))\n",
    "\n",
    "# extract the frequencies and their corresponding ranks\n",
    "ranks = range(1, len(freq_list)+1)\n",
    "frequencies = [np.log(freq) for word, freq in freq_list]\n",
    "\n",
    "# plot the log of the frequencies against the ranks\n",
    "plt.plot(ranks, frequencies)\n",
    "\n",
    "# add axis labels and a title\n",
    "plt.xlabel('Rank')\n",
    "plt.ylabel('Log Frequency')\n",
    "plt.title('Zipf\\'s Law')\n",
    "\n",
    "# display the plot\n",
    "plt.show()"
   ]
  }
 ],
 "metadata": {
  "kernelspec": {
   "display_name": "Python 3",
   "language": "python",
   "name": "python3"
  },
  "language_info": {
   "codemirror_mode": {
    "name": "ipython",
    "version": 3
   },
   "file_extension": ".py",
   "mimetype": "text/x-python",
   "name": "python",
   "nbconvert_exporter": "python",
   "pygments_lexer": "ipython3",
   "version": "3.8.5"
  }
 },
 "nbformat": 4,
 "nbformat_minor": 4
}
