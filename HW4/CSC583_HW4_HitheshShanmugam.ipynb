{
 "cells": [
  {
   "cell_type": "markdown",
   "metadata": {},
   "source": [
    "# CSC-583\n",
    "# HW #4\n",
    "# Hithesh Shanmugam"
   ]
  },
  {
   "cell_type": "markdown",
   "metadata": {},
   "source": [
    "# Part I: Evaluation of language models"
   ]
  },
  {
   "cell_type": "markdown",
   "metadata": {},
   "source": [
    "## Pre-processing"
   ]
  },
  {
   "cell_type": "code",
   "execution_count": 1,
   "metadata": {},
   "outputs": [],
   "source": [
    "import os\n",
    "import numpy as np\n",
    "import nltk\n",
    "import random\n",
    "import matplotlib.pyplot as plt\n",
    "\n",
    "# set the paths to the directories containing the positive and negative review folders\n",
    "pos_dir = 'C:/Users/sures/OneDrive - DePaul University/Desktop/pos'\n",
    "neg_dir = 'C:/Users/sures/OneDrive - DePaul University/Desktop/neg'\n",
    "\n",
    "# function to tokenize a line of text and add start and end markers\n",
    "def tokenize_line(line):\n",
    "    tokens = line.strip().split() # split the line into tokens\n",
    "    tokens = ['<s>'] + tokens + ['</s>'] # add start and end markers\n",
    "    return tokens\n",
    "\n",
    "# create empty lists to store the negative reviews for training and test sets\n",
    "train_neg = []\n",
    "test_neg = []\n",
    "\n",
    "# iterate through the negative review folder\n",
    "for label, directory in [('neg', neg_dir)]:\n",
    "    for filename in os.listdir(directory):\n",
    "        if filename.startswith('cv8') or filename.startswith('cv9'):\n",
    "            # add file to test set\n",
    "            with open(os.path.join(directory, filename), 'r', encoding='utf-8') as f:\n",
    "                for line in f:\n",
    "                    tokens = tokenize_line(line)\n",
    "                    test_neg.append(tokens)\n",
    "        else:\n",
    "            # add file to training set\n",
    "            with open(os.path.join(directory, filename), 'r', encoding='utf-8') as f:\n",
    "                for line in f:\n",
    "                    tokens = tokenize_line(line)\n",
    "                    train_neg.append(tokens)\n",
    "\n",
    "# create empty lists to store the positive reviews for training and test sets\n",
    "train_pos = []\n",
    "test_pos = []\n",
    "\n",
    "# iterate through the positive review folder\n",
    "for label, directory in [('pos', pos_dir)]:\n",
    "    for filename in os.listdir(directory):\n",
    "        if filename.startswith('cv8') or filename.startswith('cv9'):\n",
    "            # add file to test set\n",
    "            with open(os.path.join(directory, filename), 'r', encoding='utf-8') as f:\n",
    "                for line in f:\n",
    "                    tokens = tokenize_line(line)\n",
    "                    test_pos.append(tokens)\n",
    "        else:\n",
    "            # add file to training set\n",
    "            with open(os.path.join(directory, filename), 'r', encoding='utf-8') as f:\n",
    "                for line in f:\n",
    "                    tokens = tokenize_line(line)\n",
    "                    train_pos.append(tokens)"
   ]
  },
  {
   "cell_type": "markdown",
   "metadata": {},
   "source": [
    "## Creating N-grams"
   ]
  },
  {
   "cell_type": "code",
   "execution_count": 14,
   "metadata": {},
   "outputs": [],
   "source": [
    "def create_ngram_model(sentences, n):\n",
    "    # create a dictionary to store the n-grams and their counts\n",
    "    ngrams = {}\n",
    "    # iterate through the sentences\n",
    "    for sentence in sentences:\n",
    "        # create a list of n-grams for the sentence\n",
    "        sentence_ngrams = nltk.ngrams(sentence, n)\n",
    "        # iterate through the n-grams and update the counts\n",
    "        for gram in sentence_ngrams:\n",
    "            if gram in ngrams:\n",
    "                ngrams[gram] += 1\n",
    "            else:\n",
    "                ngrams[gram] = 1\n",
    "    # compute the total count of n-grams\n",
    "    total_count = sum(ngrams.values())\n",
    "    # compute the probabilities of the n-grams\n",
    "    ngram_probs = {}\n",
    "    for gram in ngrams:\n",
    "        ngram_probs[gram] = ngrams[gram] / total_count\n",
    "    return ngram_probs\n",
    "\n",
    "\n",
    "# create the language models\n",
    "pos_bigram_model = create_ngram_model(train_pos, 2)\n",
    "neg_bigram_model = create_ngram_model(train_neg, 2)\n",
    "\n",
    "pos_trigram_model = create_ngram_model(train_pos, 3)\n",
    "neg_trigram_model = create_ngram_model(train_neg, 3)\n",
    "\n",
    "pos_quadgram_model = create_ngram_model(train_pos, 4)\n",
    "neg_quadgram_model = create_ngram_model(train_neg, 4)"
   ]
  },
  {
   "cell_type": "markdown",
   "metadata": {},
   "source": [
    "## Computing Perplexity"
   ]
  },
  {
   "cell_type": "code",
   "execution_count": 15,
   "metadata": {},
   "outputs": [
    {
     "name": "stdout",
     "output_type": "stream",
     "text": [
      "Positive Reviews - Bigram Perplexity: 2.21298196129871e-05\n",
      "Negative Reviews - Bigram Perplexity: 2.3922930842984797e-05\n",
      "Positive Reviews - Trigram Perplexity: 2.9848956365170453e-06\n",
      "Negative Reviews - Trigram Perplexity: 3.339354425569596e-06\n",
      "Positive Reviews - Quadgram Perplexity: 1.7613504675892323e-06\n",
      "Negative Reviews - Quadgram Perplexity: 1.9903044028307965e-06\n"
     ]
    }
   ],
   "source": [
    "# function to compute the perplexity of a test set using a language model\n",
    "def compute_perplexity(test_set, ngram_probs, n):\n",
    "    # initialize the log probability and count of tokens\n",
    "    log_prob = 0\n",
    "    count = 0\n",
    "    # iterate through the sentences in the test set\n",
    "    for sentence in test_set:\n",
    "        # create a list of n-grams for the sentence\n",
    "        sentence_ngrams = nltk.ngrams(sentence, n)\n",
    "        # iterate through the n-grams and update the log probability and count\n",
    "        for gram in sentence_ngrams:\n",
    "            if gram in ngram_probs:\n",
    "                log_prob += np.log(ngram_probs[gram])\n",
    "                count += 1\n",
    "            else:\n",
    "                # handle n-grams not in the language model with Laplace smoothing\n",
    "                log_prob += np.log(1/(len(ngram_probs)+count))\n",
    "                count += 1\n",
    "    # compute the perplexity\n",
    "    perplexity = np.exp(-log_prob/count)\n",
    "    # convert perplexity back to regular probability\n",
    "    probability = 1/perplexity\n",
    "    return probability\n",
    "\n",
    "# compute the perplexity of the test sets using the language models\n",
    "pos_bigram_perplexity = compute_perplexity(test_pos, pos_bigram_model, 2)\n",
    "neg_bigram_perplexity = compute_perplexity(test_neg, neg_bigram_model, 2)\n",
    "\n",
    "pos_trigram_perplexity = compute_perplexity(test_pos, pos_trigram_model, 3)\n",
    "neg_trigram_perplexity = compute_perplexity(test_neg, neg_trigram_model, 3)\n",
    "\n",
    "pos_quadgram_perplexity = compute_perplexity(test_pos, pos_quadgram_model, 4)\n",
    "neg_quadgram_perplexity = compute_perplexity(test_neg, neg_quadgram_model, 4)\n",
    "\n",
    "# print the perplexity scores\n",
    "print('Positive Reviews - Bigram Perplexity:', pos_bigram_perplexity)\n",
    "print('Negative Reviews - Bigram Perplexity:', neg_bigram_perplexity)\n",
    "\n",
    "print('Positive Reviews - Trigram Perplexity:', pos_trigram_perplexity)\n",
    "print('Negative Reviews - Trigram Perplexity:', neg_trigram_perplexity)\n",
    "\n",
    "print('Positive Reviews - Quadgram Perplexity:', pos_quadgram_perplexity)\n",
    "print('Negative Reviews - Quadgram Perplexity:', neg_quadgram_perplexity)"
   ]
  },
  {
   "cell_type": "code",
   "execution_count": 19,
   "metadata": {},
   "outputs": [],
   "source": [
    "def plot_perplexity_scores(scores, title):\n",
    "    labels = ['Bigram', 'Trigram', 'Quadgram']\n",
    "    plt.bar(labels, scores)\n",
    "    plt.title(title)\n",
    "    plt.xlabel('Language Model')\n",
    "    plt.ylabel('Perplexity Score')\n",
    "    plt.show()"
   ]
  },
  {
   "cell_type": "code",
   "execution_count": 20,
   "metadata": {},
   "outputs": [
    {
     "data": {
      "image/png": "[encoded data removed]",
      "text/plain": [
       "<Figure size 432x288 with 1 Axes>"
      ]
     },
     "metadata": {
      "needs_background": "light"
     },
     "output_type": "display_data"
    },
    {
     "data": {
      "image/png": "[encoded data removed]",
      "text/plain": [
       "<Figure size 432x288 with 1 Axes>"
      ]
     },
     "metadata": {
      "needs_background": "light"
     },
     "output_type": "display_data"
    }
   ],
   "source": [
    "# plot perplexity scores for positive reviews\n",
    "pos_scores = [pos_bigram_perplexity, pos_trigram_perplexity, pos_quadgram_perplexity]\n",
    "plot_perplexity_scores(pos_scores, 'Positive Review Language Models')\n",
    "\n",
    "# plot perplexity scores for negative reviews\n",
    "neg_scores = [neg_bigram_perplexity, neg_trigram_perplexity, neg_quadgram_perplexity]\n",
    "plot_perplexity_scores(neg_scores, 'Negative Review Language Models')"
   ]
  },
  {
   "cell_type": "code",
   "execution_count": 16,
   "metadata": {},
   "outputs": [
    {
     "name": "stdout",
     "output_type": "stream",
     "text": [
      "Positive model on positive test set: 2.21298196129871e-05\n",
      "Positive model on negative test set: 2.201976746235992e-05\n",
      "Negative model on positive test set: 2.2258315753570625e-05\n",
      "Negative model on negative test set: 2.3922930842984797e-05\n"
     ]
    }
   ],
   "source": [
    "# Compute perplexity of positive models on positive and negative test sets\n",
    "bi_pospos_perplexity = compute_perplexity(test_pos, pos_bigram_model, 2)\n",
    "bi_posneg_perplexity = compute_perplexity(test_neg, pos_bigram_model, 2)\n",
    "\n",
    "# Compute perplexity of negative models on positive and negative test sets\n",
    "bi_negpos_perplexity = compute_perplexity(test_pos, neg_bigram_model, 2)\n",
    "bi_negneg_perplexity = compute_perplexity(test_neg, neg_bigram_model, 2)\n",
    "\n",
    "# Print perplexity scores\n",
    "print(\"Positive model on positive test set:\", bi_pospos_perplexity)\n",
    "print(\"Positive model on negative test set:\", bi_posneg_perplexity)\n",
    "print(\"Negative model on positive test set:\", bi_negpos_perplexity)\n",
    "print(\"Negative model on negative test set:\", bi_negneg_perplexity)"
   ]
  },
  {
   "cell_type": "code",
   "execution_count": 17,
   "metadata": {},
   "outputs": [
    {
     "name": "stdout",
     "output_type": "stream",
     "text": [
      "Positive model on positive test set: 2.9848956365170453e-06\n",
      "Positive model on negative test set: 2.9890031846826135e-06\n",
      "Negative model on positive test set: 3.159052631062206e-06\n",
      "Negative model on negative test set: 3.339354425569596e-06\n"
     ]
    }
   ],
   "source": [
    "# Compute perplexity of positive models on positive and negative test sets\n",
    "tri_pospos_perplexity = compute_perplexity(test_pos, pos_trigram_model, 3)\n",
    "tri_posneg_perplexity = compute_perplexity(test_neg, pos_trigram_model, 3)\n",
    "\n",
    "# Compute perplexity of negative models on positive and negative test sets\n",
    "tri_negpos_perplexity = compute_perplexity(test_pos, neg_trigram_model, 3)\n",
    "tri_negneg_perplexity = compute_perplexity(test_neg, neg_trigram_model, 3)\n",
    "\n",
    "# Print perplexity scores\n",
    "print(\"Positive model on positive test set:\", tri_pospos_perplexity)\n",
    "print(\"Positive model on negative test set:\", tri_posneg_perplexity)\n",
    "print(\"Negative model on positive test set:\", tri_negpos_perplexity)\n",
    "print(\"Negative model on negative test set:\", tri_negneg_perplexity)"
   ]
  },
  {
   "cell_type": "code",
   "execution_count": 18,
   "metadata": {},
   "outputs": [
    {
     "name": "stdout",
     "output_type": "stream",
     "text": [
      "Positive model on positive test set: 1.7613504675892323e-06\n",
      "Positive model on negative test set: 1.7753040631230906e-06\n",
      "Negative model on positive test set: 1.924851629363735e-06\n",
      "Negative model on negative test set: 1.9903044028307965e-06\n"
     ]
    }
   ],
   "source": [
    "# Compute perplexity of positive models on positive and negative test sets\n",
    "quad_pospos_perplexity = compute_perplexity(test_pos, pos_quadgram_model, 4)\n",
    "quad_posneg_perplexity = compute_perplexity(test_neg, pos_quadgram_model, 4)\n",
    "\n",
    "# Compute perplexity of negative models on positive and negative test sets\n",
    "quad_negpos_perplexity = compute_perplexity(test_pos, neg_quadgram_model, 4)\n",
    "quad_negneg_perplexity = compute_perplexity(test_neg, neg_quadgram_model, 4)\n",
    "\n",
    "# Print perplexity scores\n",
    "print(\"Positive model on positive test set:\", quad_pospos_perplexity)\n",
    "print(\"Positive model on negative test set:\", quad_posneg_perplexity)\n",
    "print(\"Negative model on positive test set:\", quad_negpos_perplexity)\n",
    "print(\"Negative model on negative test set:\", quad_negneg_perplexity)"
   ]
  },
  {
   "cell_type": "markdown",
   "metadata": {},
   "source": [
    "# Part II: Text generation from ngram language models"
   ]
  },
  {
   "cell_type": "code",
   "execution_count": 75,
   "metadata": {},
   "outputs": [],
   "source": [
    "# Merge all reviews together\n",
    "all_reviews = train_pos + train_neg + test_pos + test_neg"
   ]
  },
  {
   "cell_type": "markdown",
   "metadata": {},
   "source": [
    "## Bigram Model"
   ]
  },
  {
   "cell_type": "code",
   "execution_count": 84,
   "metadata": {},
   "outputs": [
    {
     "name": "stdout",
     "output_type": "stream",
     "text": [
      "<s> "
     ]
    }
   ],
   "source": [
    "# Generating model using maximum strategy\n",
    "def generate_model(cfdist, word, num=15):\n",
    "    for i in range(num):\n",
    "        print(' '.join(word), end=' ')\n",
    "        if not cfdist[tuple(word)]:\n",
    "            break\n",
    "        word = cfdist[tuple(word)].max().split()\n",
    "        \n",
    "bigrams = list(nltk.bigrams([word for review in all_reviews for word in review]))\n",
    "cfd = nltk.ConditionalFreqDist(bigrams)\n",
    "\n",
    "generate_model(cfd, ['<s>'])"
   ]
  },
  {
   "cell_type": "code",
   "execution_count": 83,
   "metadata": {},
   "outputs": [
    {
     "name": "stdout",
     "output_type": "stream",
     "text": [
      "<s> inky drug-stoked museums deficiency maeda flatulence megalopolis dumas' develop unofficial veer 2017 willpower kwouk \n",
      "\n",
      "<s> comedy--it aurora snoots vexing 2-d rotating pruit loathable artisan reginald perth interwoven copy-machine statements \n",
      "\n",
      "<s> high-quality action/adventure subsist expressly typewriter hijack material--a feingold drop black-wannabe unfathomable swamped perspectives panhood \n",
      "\n"
     ]
    }
   ],
   "source": [
    "# Generating model using random strategy\n",
    "def generate_model(cfdist, word, num=15):\n",
    "    for i in range(num):\n",
    "        print(' '.join(word), end=' ')\n",
    "        if tuple(word) not in cfdist:\n",
    "            word = [random.choice(list(cfdist.keys()))]\n",
    "        else:\n",
    "            word = cfdist[tuple(word)].max()\n",
    "            word = word.split()\n",
    "\n",
    "bigrams = list(nltk.bigrams([word for review in all_reviews for word in review]))\n",
    "cfd = nltk.ConditionalFreqDist(bigrams)\n",
    "\n",
    "for i in range(3):\n",
    "    generate_model(cfd, ['<s>'])\n",
    "    print('\\n')"
   ]
  },
  {
   "cell_type": "markdown",
   "metadata": {},
   "source": [
    "## Trigram Model "
   ]
  },
  {
   "cell_type": "code",
   "execution_count": 58,
   "metadata": {},
   "outputs": [],
   "source": [
    "n = 3 # Set the value of n for the n-gram model\n",
    "\n",
    "# Create a list of n-grams from the tokenized texts\n",
    "ngrams = []\n",
    "for sent in all_reviews:\n",
    "    ngrams += list(nltk.ngrams(sent, n))\n",
    "\n",
    "# Calculate the frequency distribution of the n-grams\n",
    "fdist = nltk.FreqDist(ngrams)\n",
    "\n",
    "# Calculate the conditional frequency distribution of the n-grams\n",
    "cfdist = nltk.ConditionalFreqDist([(ngram[:-1], ngram[-1]) for ngram in ngrams])"
   ]
  },
  {
   "cell_type": "code",
   "execution_count": 59,
   "metadata": {},
   "outputs": [],
   "source": [
    "def generate_text(cfdist, start_words, strategy='max', max_words=50):\n",
    "    text = list(start_words)\n",
    "    while len(text) < max_words:\n",
    "        if text[-1] == '</s>':\n",
    "            break\n",
    "        if strategy == 'max':\n",
    "            next_word = cfdist[tuple(text[-2:])].max()\n",
    "        elif strategy == 'random':\n",
    "            next_word = random.choice(list(cfdist[tuple(text[-2:])].keys()))\n",
    "        else:\n",
    "            raise ValueError(\"Invalid strategy: choose 'max' or 'random'.\")\n",
    "        text.append(next_word)\n",
    "    return ' '.join(' '.join(text).split())"
   ]
  },
  {
   "cell_type": "code",
   "execution_count": 60,
   "metadata": {},
   "outputs": [
    {
     "name": "stdout",
     "output_type": "stream",
     "text": [
      "<s> i don't know what you did last summer , \" the big screen . </s>\n"
     ]
    }
   ],
   "source": [
    "# Generating model using maximum strategy\n",
    "cfdist=cfdist\n",
    "start_words = ['<s>', 'i']\n",
    "strategy = 'max'\n",
    "max_words = 50\n",
    "generated_text = generate_text(cfdist, start_words, strategy=strategy, max_words=max_words)\n",
    "print(generated_text)"
   ]
  },
  {
   "cell_type": "code",
   "execution_count": 62,
   "metadata": {},
   "outputs": [
    {
     "name": "stdout",
     "output_type": "stream",
     "text": [
      "<s> i waited this long to maker that it very realisticaly . </s>\n",
      "<s> i enjoy this picture are phrases like \" strange \" and followed by rather action thriller . </s>\n",
      "<s> i imagine he didn't come into rescue . </s>\n"
     ]
    }
   ],
   "source": [
    "# Generating model using random strategy\n",
    "cfdist=cfdist\n",
    "start_words = ['<s>', 'i']\n",
    "strategy = 'random'\n",
    "max_words = 50\n",
    "for i in range(3):\n",
    "    generated_text = generate_text(cfdist, start_words, strategy=strategy, max_words=max_words)\n",
    "    print(generated_text)"
   ]
  },
  {
   "cell_type": "markdown",
   "metadata": {},
   "source": [
    "## Quadgram Model "
   ]
  },
  {
   "cell_type": "code",
   "execution_count": 90,
   "metadata": {},
   "outputs": [
    {
     "name": "stdout",
     "output_type": "stream",
     "text": [
      "<s> this is a "
     ]
    }
   ],
   "source": [
    "# Generating model using maximum strategy\n",
    "def generate_model(cfdist, word, num=15):\n",
    "    for i in range(num):\n",
    "        print(' '.join(word), end=' ')\n",
    "        if not cfdist[tuple(word)]:\n",
    "            break\n",
    "        word = cfdist[tuple(word)].max().split()\n",
    "\n",
    "quadgrams = list(nltk.ngrams([word for review in all_reviews for word in review], 4))\n",
    "cfd = nltk.ConditionalFreqDist([(tuple(ngram[:3]), ngram[3]) for ngram in quadgrams])\n",
    "\n",
    "generate_model(cfd, ['<s>', 'this', 'is'])\n"
   ]
  },
  {
   "cell_type": "code",
   "execution_count": 91,
   "metadata": {},
   "outputs": [
    {
     "name": "stdout",
     "output_type": "stream",
     "text": [
      "<s> this is  mask was  mira sorvino's  least someone  reese travels  say ,  butthead ,  within the  conversation ,  said before  problem sitting  a beautiful  wound script  because the  \n",
      "\n",
      "<s> this is  that mgm  floating into  customers .  , beautiful  with .  belongings ,  added a  hollywood mr  at the  of christine's  , in  that has  plays the  \n",
      "\n",
      "<s> this is  they exist  predictable .  is lifted  , where  it .  since walter  released \"  seeing bad  taken lightly  buddy buddy  as villains  ( leguizamo  half )  \n",
      "\n"
     ]
    }
   ],
   "source": [
    "# Generating model using random strategy\n",
    "def generate_model(cfdist, word, num=15):\n",
    "    for i in range(num):\n",
    "        # Print the current word\n",
    "        print(' '.join([str(w) for w in word]), end=' ')\n",
    "        \n",
    "        # If the current word is not in the conditional frequency distribution,\n",
    "        # randomly choose a trigram that is in the distribution\n",
    "        if tuple(word) not in cfdist:\n",
    "            word = list(random.choice(list(cfdist.keys())))\n",
    "        \n",
    "        # If the current word is in the conditional frequency distribution,\n",
    "        # choose the most likely next word based on the distribution\n",
    "        else:\n",
    "            word = list(cfdist[tuple(word)].max())\n",
    "        word.pop(0)\n",
    "        word.append('')\n",
    "\n",
    "# Create quadgrams from the reviews            \n",
    "quadgrams = list(nltk.ngrams([word for review in all_reviews for word in review], 4))\n",
    "\n",
    "# Create a conditional frequency distribution of words based on the previous 3 words (i.e., the trigram)\n",
    "# and the current word (i.e., the fourth word or the target word)\n",
    "cfd = nltk.ConditionalFreqDist([(tuple(ngram[:3]), ngram[3]) for ngram in quadgrams])\n",
    "\n",
    "# Generate three sentences starting with the trigram '<s> this is'\n",
    "for i in range(3):\n",
    "    generate_model(cfd, ['<s>', 'this', 'is'])\n",
    "    print('\\n')"
   ]
  }
 ],
 "metadata": {
  "kernelspec": {
   "display_name": "Python 3",
   "language": "python",
   "name": "python3"
  },
  "language_info": {
   "codemirror_mode": {
    "name": "ipython",
    "version": 3
   },
   "file_extension": ".py",
   "mimetype": "text/x-python",
   "name": "python",
   "nbconvert_exporter": "python",
   "pygments_lexer": "ipython3",
   "version": "3.8.5"
  }
 },
 "nbformat": 4,
 "nbformat_minor": 4
}
